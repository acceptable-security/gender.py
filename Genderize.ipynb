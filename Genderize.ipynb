{
  "nbformat": 4,
  "nbformat_minor": 0,
  "metadata": {
    "colab": {
      "provenance": []
    },
    "kernelspec": {
      "name": "python3",
      "display_name": "Python 3"
    },
    "language_info": {
      "name": "python"
    }
  },
  "cells": [
    {
      "cell_type": "code",
      "source": [
        "#Query list of names for gender identification\n",
        "list_of_names = ['Shigeo',\n",
        "'Shigeki',\n",
        "'Hisataka',\n",
        "'Teruhito',\n",
        "'Midori',\n",
        "'Iwao',\n",
        "'Sachiko',\n",
        "'Tomislav',\n",
        "'Azra',\n",
        "'Mirjana']"
      ],
      "metadata": {
        "id": "VYIQWmgxwtse"
      },
      "execution_count": 13,
      "outputs": []
    },
    {
      "cell_type": "code",
      "source": [
        "for name in list_of_names:\n",
        "  url = \"https://api.genderize.io?name=\"+name\n",
        "  print(url)\n",
        "\n",
        "  # A GET request to the API\n",
        "  response = requests.get(url)\n",
        "\n",
        "  # Print the response\n",
        "  response_json = response.json()\n",
        "  print(response_json)"
      ],
      "metadata": {
        "colab": {
          "base_uri": "https://localhost:8080/"
        },
        "id": "j9R70WwdxOyX",
        "outputId": "25f83beb-1e5a-4e94-be03-b09ff85b9296"
      },
      "execution_count": 14,
      "outputs": [
        {
          "output_type": "stream",
          "name": "stdout",
          "text": [
            "https://api.genderize.io?name=Shigeo\n",
            "{'count': 996, 'gender': 'male', 'name': 'Shigeo', 'probability': 1.0}\n",
            "https://api.genderize.io?name=Shigeki\n",
            "{'count': 1228, 'gender': 'male', 'name': 'Shigeki', 'probability': 1.0}\n",
            "https://api.genderize.io?name=Hisataka\n",
            "{'count': 20, 'gender': 'male', 'name': 'Hisataka', 'probability': 1.0}\n",
            "https://api.genderize.io?name=Teruhito\n",
            "{'count': 8, 'gender': 'male', 'name': 'Teruhito', 'probability': 1.0}\n",
            "https://api.genderize.io?name=Midori\n",
            "{'count': 3351, 'gender': 'female', 'name': 'Midori', 'probability': 0.99}\n",
            "https://api.genderize.io?name=Iwao\n",
            "{'count': 378, 'gender': 'male', 'name': 'Iwao', 'probability': 0.99}\n",
            "https://api.genderize.io?name=Sachiko\n",
            "{'count': 3034, 'gender': 'female', 'name': 'Sachiko', 'probability': 1.0}\n",
            "https://api.genderize.io?name=Tomislav\n",
            "{'count': 14401, 'gender': 'male', 'name': 'Tomislav', 'probability': 1.0}\n",
            "https://api.genderize.io?name=Azra\n",
            "{'count': 5095, 'gender': 'female', 'name': 'Azra', 'probability': 0.97}\n",
            "https://api.genderize.io?name=Mirjana\n",
            "{'count': 15828, 'gender': 'female', 'name': 'Mirjana', 'probability': 0.99}\n"
          ]
        }
      ]
    }
  ]
}